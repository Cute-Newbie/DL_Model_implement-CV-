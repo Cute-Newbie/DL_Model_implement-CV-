{
 "cells": [
  {
   "cell_type": "code",
   "execution_count": 1,
   "id": "2bb33588",
   "metadata": {},
   "outputs": [],
   "source": [
    "import numpy as np"
   ]
  },
  {
   "cell_type": "code",
   "execution_count": 6,
   "id": "6d71b35c",
   "metadata": {},
   "outputs": [],
   "source": [
    "input_dim = 4\n",
    "hidden_layer_dim = 8\n",
    "time_sequence = 10\n",
    "\n",
    "input_x = np.random.random((time_sequence,input_dim))\n",
    "w_x = np.random.random((hidden_layer_dim,input_dim))\n",
    "w_h = np.random.random((hidden_layer_dim,hidden_layer_dim))\n",
    "b = np.random.random((hidden_layer_dim,))\n",
    "hidden_state = np.zeros((hidden_layer_dim,))\n"
   ]
  },
  {
   "cell_type": "code",
   "execution_count": 9,
   "id": "dc2cc0d6",
   "metadata": {},
   "outputs": [
    {
     "name": "stdout",
     "output_type": "stream",
     "text": [
      "hiddem_state_before_training: [0. 0. 0. 0. 0. 0. 0. 0.]\n"
     ]
    }
   ],
   "source": [
    "print(\"hiddem_state_before_training:\",hidden_state)"
   ]
  },
  {
   "cell_type": "code",
   "execution_count": 13,
   "id": "a0c2d02f",
   "metadata": {},
   "outputs": [],
   "source": [
    "total_hidden_list = []\n",
    "for word in input_x:\n",
    "    process = np.tanh(np.dot(w_x,word)+np.dot(w_h,hidden_state)+b)\n",
    "    total_hidden_list.append(process)\n",
    "    hidden_state = process\n",
    "    "
   ]
  },
  {
   "cell_type": "code",
   "execution_count": 14,
   "id": "88772fcd",
   "metadata": {},
   "outputs": [
    {
     "name": "stdout",
     "output_type": "stream",
     "text": [
      "[array([0.97955693, 0.94974665, 0.97494832, 0.79019718, 0.9595003 ,\n",
      "       0.99251378, 0.95295001, 0.9838212 ]), array([0.99999555, 0.99991055, 0.99993298, 0.99389859, 0.99998283,\n",
      "       0.99991935, 0.9999557 , 0.99989948]), array([0.99999787, 0.99995065, 0.99996227, 0.99595401, 0.99999202,\n",
      "       0.99996598, 0.99997621, 0.99995648]), array([0.99999695, 0.99993385, 0.99996378, 0.99569902, 0.99998425,\n",
      "       0.99994093, 0.99997067, 0.99995339]), array([0.99999759, 0.99996548, 0.99998563, 0.99618285, 0.99999115,\n",
      "       0.99997641, 0.99997222, 0.9999757 ]), array([0.99999484, 0.99991387, 0.99996969, 0.99451711, 0.9999249 ,\n",
      "       0.99974334, 0.99994533, 0.9998689 ]), array([0.99999758, 0.99994242, 0.99996423, 0.99616615, 0.99998775,\n",
      "       0.99995267, 0.99997472, 0.99995557]), array([0.99999695, 0.99991142, 0.99993898, 0.99553946, 0.99996332,\n",
      "       0.99981778, 0.99996592, 0.99985705]), array([0.99999824, 0.99994581, 0.99996579, 0.99718516, 0.99998812,\n",
      "       0.99995633, 0.99998048, 0.99996101]), array([0.99999679, 0.99989562, 0.99990649, 0.99497136, 0.99997394,\n",
      "       0.9998433 , 0.99996819, 0.99986361])]\n"
     ]
    }
   ],
   "source": [
    "print(total_hidden_list)"
   ]
  },
  {
   "cell_type": "code",
   "execution_count": null,
   "id": "d26628ce",
   "metadata": {},
   "outputs": [],
   "source": []
  },
  {
   "cell_type": "code",
   "execution_count": null,
   "id": "d754ad8a",
   "metadata": {},
   "outputs": [],
   "source": []
  },
  {
   "cell_type": "code",
   "execution_count": null,
   "id": "4ac5659f",
   "metadata": {},
   "outputs": [],
   "source": []
  },
  {
   "cell_type": "code",
   "execution_count": null,
   "id": "d774d513",
   "metadata": {},
   "outputs": [],
   "source": []
  }
 ],
 "metadata": {
  "kernelspec": {
   "display_name": "Python 3 (ipykernel)",
   "language": "python",
   "name": "python3"
  },
  "language_info": {
   "codemirror_mode": {
    "name": "ipython",
    "version": 3
   },
   "file_extension": ".py",
   "mimetype": "text/x-python",
   "name": "python",
   "nbconvert_exporter": "python",
   "pygments_lexer": "ipython3",
   "version": "3.9.13"
  }
 },
 "nbformat": 4,
 "nbformat_minor": 5
}
